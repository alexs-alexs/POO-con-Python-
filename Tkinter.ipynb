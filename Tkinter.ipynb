{
  "cells": [
    {
      "cell_type": "markdown",
      "metadata": {
        "id": "view-in-github",
        "colab_type": "text"
      },
      "source": [
        "<a href=\"https://colab.research.google.com/github/alexs-alexs/POO-con-Python-/blob/main/Tkinter.ipynb\" target=\"_parent\"><img src=\"https://colab.research.google.com/assets/colab-badge.svg\" alt=\"Open In Colab\"/></a>"
      ]
    },
    {
      "cell_type": "markdown",
      "id": "f159572b",
      "metadata": {
        "id": "f159572b"
      },
      "source": [
        "Creacion de ventana"
      ]
    },
    {
      "cell_type": "code",
      "execution_count": null,
      "id": "ae2c946c",
      "metadata": {
        "id": "ae2c946c"
      },
      "outputs": [],
      "source": [
        "from tkinter import *\n",
        "\n",
        "ventana = Tk()\n",
        "\n",
        "ventana.mainloop(\"\")\n"
      ]
    },
    {
      "cell_type": "code",
      "execution_count": null,
      "id": "3471320f",
      "metadata": {
        "id": "3471320f"
      },
      "outputs": [],
      "source": [
        "from tkinter import *\n",
        "\n",
        "ventana = Tk()\n",
        "\n",
        "ventana.geometry('600x800')\n",
        "ventana.title(\"Mi Ventana\")\n",
        "\n",
        "\n",
        "\n",
        "ventana.mainloop()\n"
      ]
    },
    {
      "cell_type": "markdown",
      "id": "954c3ca8",
      "metadata": {
        "id": "954c3ca8"
      },
      "source": [
        "widget label (Etiqueta de texto)"
      ]
    },
    {
      "cell_type": "code",
      "execution_count": null,
      "id": "4fffcced",
      "metadata": {
        "id": "4fffcced"
      },
      "outputs": [],
      "source": [
        "from tkinter import *\n",
        "\n",
        "ventana = Tk()\n",
        "\n",
        "ventana.geometry('600x400')\n",
        "ventana.title(\"Mi Ventana\")\n",
        "ventana.config(bg='#04F2F2')\n",
        "\n",
        "etiqueta1 = Label(ventana,text=\"Hola Mundo\")\n",
        "etiqueta1.config(font=('Arial',20,'bold'),fg='#0449F2',bg='#8DF204')\n",
        "etiqueta1.place(x=200,y=60)\n",
        "\n",
        "\n",
        "\n",
        "\n",
        "\n",
        "\n",
        "ventana.mainloop()"
      ]
    },
    {
      "cell_type": "markdown",
      "id": "0e800efd",
      "metadata": {
        "id": "0e800efd"
      },
      "source": [
        "widget Entry  (texto corto)"
      ]
    },
    {
      "cell_type": "code",
      "execution_count": null,
      "id": "62d242f7",
      "metadata": {
        "id": "62d242f7"
      },
      "outputs": [],
      "source": [
        "from tkinter import *\n",
        "\n",
        "ventana = Tk()\n",
        "\n",
        "ventana.geometry('600x300')\n",
        "ventana.title(\"Mi Ventana\")\n",
        "ventana.config(bg='#F204A6')\n",
        "\n",
        "etiqueta1 = Label(ventana,text=\"Hola Mundo\")\n",
        "etiqueta1.config(font=('Arial',20,'bold'),fg='#0449F2',bg='#8DF204')\n",
        "etiqueta1.place(x=200,y=60)\n",
        "\n",
        "\n",
        "entrada = Entry(ventana)\n",
        "entrada.config(font=('Arial',20,'bold'))\n",
        "entrada.place(x=200,y=110)\n",
        "\n",
        "ventana.mainloop()"
      ]
    },
    {
      "cell_type": "markdown",
      "id": "92726178",
      "metadata": {
        "id": "92726178"
      },
      "source": [
        "widget Boton (boton)"
      ]
    },
    {
      "cell_type": "code",
      "execution_count": null,
      "id": "502af768",
      "metadata": {
        "id": "502af768"
      },
      "outputs": [],
      "source": [
        "from tkinter import *\n",
        "\n",
        "ventana = Tk()\n",
        "\n",
        "ventana.geometry('600x800')\n",
        "ventana.title(\"Mi Ventana\")\n",
        "ventana.config(bg='#F204A6')\n",
        "\n",
        "etiqueta1 = Label(ventana,text=\"Hola Mundo\")\n",
        "etiqueta1.config(font=('Arial',20,'bold'),fg='#0449F2',bg='#8DF204')\n",
        "etiqueta1.place(x=200,y=60)\n",
        "\n",
        "entrada = Entry(ventana)\n",
        "entrada.config(font=('Arial',20,'bold'))\n",
        "entrada.place(x=200,y=110)\n",
        "\n",
        "boton = Button(ventana,text=\"presione\")\n",
        "boton.config(font=('Verdana',15,'bold'),bg=\"#E7F204\",fg='#04E7F2')\n",
        "boton.place(x=200,y=200)\n",
        "\n",
        "\n",
        "\n",
        "\n",
        "ventana.mainloop()\n"
      ]
    },
    {
      "cell_type": "code",
      "execution_count": null,
      "id": "7dcd22df",
      "metadata": {
        "id": "7dcd22df"
      },
      "outputs": [],
      "source": []
    },
    {
      "cell_type": "code",
      "execution_count": null,
      "id": "b371628b",
      "metadata": {
        "id": "b371628b"
      },
      "outputs": [],
      "source": []
    }
  ],
  "metadata": {
    "kernelspec": {
      "display_name": "Python 3 (ipykernel)",
      "language": "python",
      "name": "python3"
    },
    "language_info": {
      "codemirror_mode": {
        "name": "ipython",
        "version": 3
      },
      "file_extension": ".py",
      "mimetype": "text/x-python",
      "name": "python",
      "nbconvert_exporter": "python",
      "pygments_lexer": "ipython3",
      "version": "3.11.4"
    },
    "colab": {
      "provenance": [],
      "include_colab_link": true
    }
  },
  "nbformat": 4,
  "nbformat_minor": 5
}