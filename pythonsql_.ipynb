{
  "cells": [
    {
      "cell_type": "markdown",
      "metadata": {
        "id": "view-in-github",
        "colab_type": "text"
      },
      "source": [
        "<a href=\"https://colab.research.google.com/github/alexs-alexs/POO-con-Python-/blob/main/pythonsql_.ipynb\" target=\"_parent\"><img src=\"https://colab.research.google.com/assets/colab-badge.svg\" alt=\"Open In Colab\"/></a>"
      ]
    },
    {
      "cell_type": "markdown",
      "id": "bc38f67e",
      "metadata": {
        "id": "bc38f67e"
      },
      "source": [
        "1. SELECT (Consulta):"
      ]
    },
    {
      "cell_type": "code",
      "source": [],
      "metadata": {
        "id": "ISLTOMLWneyt"
      },
      "id": "ISLTOMLWneyt",
      "execution_count": null,
      "outputs": []
    },
    {
      "cell_type": "code",
      "execution_count": null,
      "id": "8a5354ae",
      "metadata": {
        "id": "8a5354ae"
      },
      "outputs": [],
      "source": [
        "import sqlite3\n",
        "\n",
        "#conectar base de  datos\n",
        "\n",
        "conn = sqlite3.connect('registros.db')\n",
        "\n",
        "cursor = conn.cursor()\n",
        "\n",
        "#realizar una consulta SELECT en la tabla empleados\n",
        "\n",
        "cursor.execute('SELECT * FROM empleados')\n",
        "\n",
        "empleados = cursor.fetchall()\n",
        "\n",
        "\n",
        "for i in empleados:\n",
        "    print(i)\n",
        "\n",
        "\n",
        "\n",
        "# cerrar conexion\n",
        "\n",
        "conn.close()\n"
      ]
    },
    {
      "cell_type": "markdown",
      "id": "0da8bf9b",
      "metadata": {
        "id": "0da8bf9b"
      },
      "source": [
        "2. INSERT (Inserción):"
      ]
    },
    {
      "cell_type": "code",
      "execution_count": null,
      "id": "93e1ffc1",
      "metadata": {
        "id": "93e1ffc1"
      },
      "outputs": [],
      "source": [
        "import sqlite3\n",
        "\n",
        "#conexion a db\n",
        "conn = sqlite3.connect(\"registros.db\")\n",
        "\n",
        "cursor = conn.cursor()\n",
        "\n",
        "# consulta INSERT\n",
        "\n",
        "cursor.execute(\"INSERT INTO departamentos (id_departamentos,nombre) values (?,?)\",(5,'limpieza'))\n",
        "\n",
        "#Guardar\n",
        "\n",
        "conn.commit()\n",
        "conn.close()"
      ]
    },
    {
      "cell_type": "markdown",
      "id": "56bc66d8",
      "metadata": {
        "id": "56bc66d8"
      },
      "source": [
        "3. UPDATE (Actualización):"
      ]
    },
    {
      "cell_type": "code",
      "execution_count": null,
      "id": "ea78421a",
      "metadata": {
        "id": "ea78421a"
      },
      "outputs": [],
      "source": [
        "import sqlite3\n",
        "\n",
        "#conexion a db\n",
        "conn = sqlite3.connect(\"registros.db\")\n",
        "\n",
        "cursor = conn.cursor()\n",
        "\n",
        "# consulta UPDATE actualizar\n",
        "\n",
        "cursor.execute(\"UPDATE departamentos  SET nombre = ? WHERE id_departamentos = ?\",('GERENCIA',3))\n",
        "\n",
        "#Guardar\n",
        "\n",
        "conn.commit()\n",
        "conn.close()"
      ]
    },
    {
      "cell_type": "markdown",
      "id": "f44e2ff3",
      "metadata": {
        "id": "f44e2ff3"
      },
      "source": [
        " 4. DELETE (Eliminación):"
      ]
    },
    {
      "cell_type": "code",
      "execution_count": null,
      "id": "4de5b501",
      "metadata": {
        "id": "4de5b501"
      },
      "outputs": [],
      "source": [
        "import sqlite3\n",
        "\n",
        "#conexion a db\n",
        "conn = sqlite3.connect(\"registros.db\")\n",
        "\n",
        "cursor = conn.cursor()\n",
        "\n",
        "# consulta ELIMINAR\n",
        "\n",
        "cursor.execute(\"DELETE FROM departamentos WHERE id_departamentos = ?\",(4,))\n",
        "\n",
        "#Guardar\n",
        "\n",
        "conn.commit()\n",
        "conn.close()"
      ]
    }
  ],
  "metadata": {
    "kernelspec": {
      "display_name": "Python 3 (ipykernel)",
      "language": "python",
      "name": "python3"
    },
    "language_info": {
      "codemirror_mode": {
        "name": "ipython",
        "version": 3
      },
      "file_extension": ".py",
      "mimetype": "text/x-python",
      "name": "python",
      "nbconvert_exporter": "python",
      "pygments_lexer": "ipython3",
      "version": "3.11.4"
    },
    "colab": {
      "provenance": [],
      "include_colab_link": true
    }
  },
  "nbformat": 4,
  "nbformat_minor": 5
}